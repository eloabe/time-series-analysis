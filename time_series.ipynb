{
 "cells": [
  {
   "cell_type": "markdown",
   "id": "f7b6d839",
   "metadata": {},
   "source": [
    "# Contexto\n",
    "\n",
    "Nesse projeto, foi explorada uma base de dados que contém a quantidade de refeições (almoço e jantar) realizadas no Restaurante Universitário da Universidade Federal do Ceará, nos anos de 2016 a 2020.\n",
    "\n",
    "Para trabalhar, foi seguida a metodologia OSEMN (Obtain, Scrub, Explore, Model, iNterpret)."
   ]
  },
  {
   "cell_type": "markdown",
   "id": "f57bf607",
   "metadata": {},
   "source": [
    "# Etapa 0 - Importação de bibliotecas e funções auxiliares"
   ]
  },
  {
   "cell_type": "code",
   "execution_count": 1,
   "id": "79c4a27e",
   "metadata": {},
   "outputs": [],
   "source": [
    "import os\n",
    "import pickle\n",
    "import warnings\n",
    "import researchpy\n",
    "\n",
    "import numpy as np\n",
    "import pandas as pd\n",
    "import seaborn as sns\n",
    "import datetime as dt\n",
    "import matplotlib.pyplot as plt\n",
    "\n",
    "from scipy.stats import skew, kurtosis\n",
    "from statsmodels.graphics.tsaplots import plot_acf\n",
    "from sklearn.metrics import mean_absolute_error, mean_squared_error, mean_absolute_percentage_error\n",
    "\n",
    "from xgboost import XGBRegressor\n",
    "from sklearn.linear_model import LinearRegression\n",
    "\n",
    "warnings.filterwarnings('ignore')\n",
    "sns.set_style('whitegrid')\n",
    "%matplotlib inline"
   ]
  },
  {
   "cell_type": "code",
   "execution_count": 2,
   "id": "5aceb78f",
   "metadata": {},
   "outputs": [],
   "source": [
    "def estatisticas(df):\n",
    "    \"\"\"\n",
    "    Calcula algumas estatísticas descritivas sobre as variáveis numéricas de uma base de dados.\n",
    "    É apenas uma incrementação do método describe() da biblioteca pandas.\n",
    "    \"\"\"\n",
    "    \n",
    "    d = df.describe(include='all')\n",
    "    d.loc['skewness'] = skew(df)\n",
    "    d.loc['kurtosis'] = kurtosis(df)\n",
    "    \n",
    "    return d\n",
    "\n",
    "def metricas_regressao(ytrue, ypred, model):\n",
    "    model_name = type(model).__name__\n",
    "    \n",
    "    result = pd.DataFrame(index = [], columns = ['Model', 'MAE', 'MAPE', 'RMSE'])\n",
    "    \n",
    "    result.loc[0, :] = [\n",
    "        model_name,\n",
    "        mean_absolute_error(ytrue, ypred),\n",
    "        mean_absolute_percentage_error(ytrue, ypred),\n",
    "        np.sqrt( mean_squared_error(ytrue, ypred) )\n",
    "    ] \n",
    "    \n",
    "    return result"
   ]
  },
  {
   "cell_type": "markdown",
   "id": "a72cb567",
   "metadata": {},
   "source": [
    "# Etapa 1 - Obtain/Obtenção"
   ]
  },
  {
   "cell_type": "markdown",
   "id": "1f6e61df",
   "metadata": {},
   "source": [
    "Nesse caso em específico, a obtenção é simples, pois basta carregar a base de dados já fornecida na competição. Em contextos reais, é comum precisar realizar *web scraping*, que consiste em uma raspagem/coleta dos dados brutos diretamente de algum site. ou outra fonte"
   ]
  },
  {
   "cell_type": "code",
   "execution_count": 3,
   "id": "d2531e86",
   "metadata": {},
   "outputs": [],
   "source": [
    "# Pegando o caminho absoluto dos dados\n",
    "ROOT_DIR = os.getcwd()\n",
    "DATA_DIR = ROOT_DIR + '\\data\\data_ru.csv'\n",
    "\n",
    "df = pd.read_csv(DATA_DIR, sep = ';')"
   ]
  },
  {
   "cell_type": "code",
   "execution_count": 4,
   "id": "94436184",
   "metadata": {},
   "outputs": [
    {
     "data": {
      "text/html": [
       "<div>\n",
       "<style scoped>\n",
       "    .dataframe tbody tr th:only-of-type {\n",
       "        vertical-align: middle;\n",
       "    }\n",
       "\n",
       "    .dataframe tbody tr th {\n",
       "        vertical-align: top;\n",
       "    }\n",
       "\n",
       "    .dataframe thead th {\n",
       "        text-align: right;\n",
       "    }\n",
       "</style>\n",
       "<table border=\"1\" class=\"dataframe\">\n",
       "  <thead>\n",
       "    <tr style=\"text-align: right;\">\n",
       "      <th></th>\n",
       "      <th>date</th>\n",
       "      <th>lunch</th>\n",
       "      <th>dinner</th>\n",
       "    </tr>\n",
       "  </thead>\n",
       "  <tbody>\n",
       "    <tr>\n",
       "      <th>0</th>\n",
       "      <td>2016-01-04</td>\n",
       "      <td>364</td>\n",
       "      <td>294</td>\n",
       "    </tr>\n",
       "    <tr>\n",
       "      <th>1</th>\n",
       "      <td>2016-01-05</td>\n",
       "      <td>489</td>\n",
       "      <td>363</td>\n",
       "    </tr>\n",
       "    <tr>\n",
       "      <th>2</th>\n",
       "      <td>2016-01-06</td>\n",
       "      <td>522</td>\n",
       "      <td>401</td>\n",
       "    </tr>\n",
       "    <tr>\n",
       "      <th>3</th>\n",
       "      <td>2016-01-07</td>\n",
       "      <td>514</td>\n",
       "      <td>349</td>\n",
       "    </tr>\n",
       "    <tr>\n",
       "      <th>4</th>\n",
       "      <td>2016-01-08</td>\n",
       "      <td>409</td>\n",
       "      <td>218</td>\n",
       "    </tr>\n",
       "  </tbody>\n",
       "</table>\n",
       "</div>"
      ],
      "text/plain": [
       "         date  lunch  dinner\n",
       "0  2016-01-04    364     294\n",
       "1  2016-01-05    489     363\n",
       "2  2016-01-06    522     401\n",
       "3  2016-01-07    514     349\n",
       "4  2016-01-08    409     218"
      ]
     },
     "execution_count": 4,
     "metadata": {},
     "output_type": "execute_result"
    }
   ],
   "source": [
    "# Visão geral da base de dados\n",
    "df.head()"
   ]
  },
  {
   "cell_type": "markdown",
   "id": "4f8b6c36",
   "metadata": {},
   "source": [
    "# Etapa 2 - Scrub/Limpeza"
   ]
  },
  {
   "cell_type": "code",
   "execution_count": 5,
   "id": "dfa87c63",
   "metadata": {},
   "outputs": [
    {
     "name": "stdout",
     "output_type": "stream",
     "text": [
      "<class 'pandas.core.frame.DataFrame'>\n",
      "RangeIndex: 1095 entries, 0 to 1094\n",
      "Data columns (total 3 columns):\n",
      " #   Column  Non-Null Count  Dtype \n",
      "---  ------  --------------  ----- \n",
      " 0   date    1095 non-null   object\n",
      " 1   lunch   1095 non-null   int64 \n",
      " 2   dinner  1095 non-null   int64 \n",
      "dtypes: int64(2), object(1)\n",
      "memory usage: 25.8+ KB\n"
     ]
    }
   ],
   "source": [
    "df.info()"
   ]
  },
  {
   "cell_type": "markdown",
   "id": "33882b5e",
   "metadata": {},
   "source": [
    "Para a análise de séries temporais, é mais adequado que a data esteja representada no tipo de dados datetime. Também podemos fazer a data ser o índice da base em vez de uma coluna."
   ]
  },
  {
   "cell_type": "code",
   "execution_count": 6,
   "id": "4942c9dd",
   "metadata": {},
   "outputs": [
    {
     "data": {
      "text/html": [
       "<div>\n",
       "<style scoped>\n",
       "    .dataframe tbody tr th:only-of-type {\n",
       "        vertical-align: middle;\n",
       "    }\n",
       "\n",
       "    .dataframe tbody tr th {\n",
       "        vertical-align: top;\n",
       "    }\n",
       "\n",
       "    .dataframe thead th {\n",
       "        text-align: right;\n",
       "    }\n",
       "</style>\n",
       "<table border=\"1\" class=\"dataframe\">\n",
       "  <thead>\n",
       "    <tr style=\"text-align: right;\">\n",
       "      <th></th>\n",
       "      <th>lunch</th>\n",
       "      <th>dinner</th>\n",
       "    </tr>\n",
       "    <tr>\n",
       "      <th>date</th>\n",
       "      <th></th>\n",
       "      <th></th>\n",
       "    </tr>\n",
       "  </thead>\n",
       "  <tbody>\n",
       "    <tr>\n",
       "      <th>2016-01-04</th>\n",
       "      <td>364</td>\n",
       "      <td>294</td>\n",
       "    </tr>\n",
       "    <tr>\n",
       "      <th>2016-01-05</th>\n",
       "      <td>489</td>\n",
       "      <td>363</td>\n",
       "    </tr>\n",
       "    <tr>\n",
       "      <th>2016-01-06</th>\n",
       "      <td>522</td>\n",
       "      <td>401</td>\n",
       "    </tr>\n",
       "    <tr>\n",
       "      <th>2016-01-07</th>\n",
       "      <td>514</td>\n",
       "      <td>349</td>\n",
       "    </tr>\n",
       "    <tr>\n",
       "      <th>2016-01-08</th>\n",
       "      <td>409</td>\n",
       "      <td>218</td>\n",
       "    </tr>\n",
       "  </tbody>\n",
       "</table>\n",
       "</div>"
      ],
      "text/plain": [
       "            lunch  dinner\n",
       "date                     \n",
       "2016-01-04    364     294\n",
       "2016-01-05    489     363\n",
       "2016-01-06    522     401\n",
       "2016-01-07    514     349\n",
       "2016-01-08    409     218"
      ]
     },
     "execution_count": 6,
     "metadata": {},
     "output_type": "execute_result"
    }
   ],
   "source": [
    "df = df.set_index( 'date', drop = True )\n",
    "df.index = pd.to_datetime(df.index)\n",
    "\n",
    "# verificando o dataset após a alteração\n",
    "df.head()"
   ]
  },
  {
   "cell_type": "code",
   "execution_count": 7,
   "id": "f8add9b1",
   "metadata": {},
   "outputs": [
    {
     "data": {
      "text/plain": [
       "201"
      ]
     },
     "execution_count": 7,
     "metadata": {},
     "output_type": "execute_result"
    }
   ],
   "source": [
    "# checando por registros duplicados\n",
    "df.duplicated().sum()"
   ]
  },
  {
   "cell_type": "code",
   "execution_count": 8,
   "id": "52ac0a70",
   "metadata": {},
   "outputs": [
    {
     "data": {
      "text/plain": [
       "lunch     0\n",
       "dinner    0\n",
       "dtype: int64"
      ]
     },
     "execution_count": 8,
     "metadata": {},
     "output_type": "execute_result"
    }
   ],
   "source": [
    "# checando por dados faltantes\n",
    "df.isnull().sum()"
   ]
  },
  {
   "cell_type": "markdown",
   "id": "69b4bd99",
   "metadata": {},
   "source": [
    "# Etapa 3 - Explore/Exploração\n",
    "Na etapa de exploração, são realizadas verificações estatísticas sobre os dados para que haja a formulação de hipóteses sobre eles. Estamos lidando com uma base de pequeno porte, já bem preparada, então a análise se torna bem mais simples."
   ]
  },
  {
   "cell_type": "markdown",
   "id": "25d12a2a",
   "metadata": {},
   "source": [
    "## 3.1. Análise descritiva"
   ]
  },
  {
   "cell_type": "code",
   "execution_count": 9,
   "id": "62f34c14",
   "metadata": {},
   "outputs": [],
   "source": [
    "#fazendo uma cópia da base original para realizar alterações\n",
    "df1 = df.copy()"
   ]
  },
  {
   "cell_type": "code",
   "execution_count": 10,
   "id": "ade5d8b8",
   "metadata": {},
   "outputs": [],
   "source": [
    "#criando uma nova variável para representar o total de refeições em um dia\n",
    "df1['total_refeicoes'] = df1['lunch'] + df1['dinner']"
   ]
  },
  {
   "cell_type": "code",
   "execution_count": 11,
   "id": "1c91465b",
   "metadata": {
    "scrolled": true
   },
   "outputs": [
    {
     "data": {
      "text/html": [
       "<div>\n",
       "<style scoped>\n",
       "    .dataframe tbody tr th:only-of-type {\n",
       "        vertical-align: middle;\n",
       "    }\n",
       "\n",
       "    .dataframe tbody tr th {\n",
       "        vertical-align: top;\n",
       "    }\n",
       "\n",
       "    .dataframe thead th {\n",
       "        text-align: right;\n",
       "    }\n",
       "</style>\n",
       "<table border=\"1\" class=\"dataframe\">\n",
       "  <thead>\n",
       "    <tr style=\"text-align: right;\">\n",
       "      <th></th>\n",
       "      <th>lunch</th>\n",
       "      <th>dinner</th>\n",
       "      <th>total_refeicoes</th>\n",
       "    </tr>\n",
       "  </thead>\n",
       "  <tbody>\n",
       "    <tr>\n",
       "      <th>count</th>\n",
       "      <td>1095.000000</td>\n",
       "      <td>1095.000000</td>\n",
       "      <td>1095.000000</td>\n",
       "    </tr>\n",
       "    <tr>\n",
       "      <th>mean</th>\n",
       "      <td>519.748858</td>\n",
       "      <td>308.515982</td>\n",
       "      <td>828.264840</td>\n",
       "    </tr>\n",
       "    <tr>\n",
       "      <th>std</th>\n",
       "      <td>312.016585</td>\n",
       "      <td>226.023003</td>\n",
       "      <td>534.150505</td>\n",
       "    </tr>\n",
       "    <tr>\n",
       "      <th>min</th>\n",
       "      <td>0.000000</td>\n",
       "      <td>0.000000</td>\n",
       "      <td>0.000000</td>\n",
       "    </tr>\n",
       "    <tr>\n",
       "      <th>25%</th>\n",
       "      <td>175.500000</td>\n",
       "      <td>0.000000</td>\n",
       "      <td>176.500000</td>\n",
       "    </tr>\n",
       "    <tr>\n",
       "      <th>50%</th>\n",
       "      <td>646.000000</td>\n",
       "      <td>387.000000</td>\n",
       "      <td>1046.000000</td>\n",
       "    </tr>\n",
       "    <tr>\n",
       "      <th>75%</th>\n",
       "      <td>781.000000</td>\n",
       "      <td>503.000000</td>\n",
       "      <td>1281.000000</td>\n",
       "    </tr>\n",
       "    <tr>\n",
       "      <th>max</th>\n",
       "      <td>1033.000000</td>\n",
       "      <td>714.000000</td>\n",
       "      <td>1720.000000</td>\n",
       "    </tr>\n",
       "    <tr>\n",
       "      <th>skewness</th>\n",
       "      <td>-0.432858</td>\n",
       "      <td>-0.342741</td>\n",
       "      <td>-0.396149</td>\n",
       "    </tr>\n",
       "    <tr>\n",
       "      <th>kurtosis</th>\n",
       "      <td>-1.333381</td>\n",
       "      <td>-1.485497</td>\n",
       "      <td>-1.436612</td>\n",
       "    </tr>\n",
       "  </tbody>\n",
       "</table>\n",
       "</div>"
      ],
      "text/plain": [
       "                lunch       dinner  total_refeicoes\n",
       "count     1095.000000  1095.000000      1095.000000\n",
       "mean       519.748858   308.515982       828.264840\n",
       "std        312.016585   226.023003       534.150505\n",
       "min          0.000000     0.000000         0.000000\n",
       "25%        175.500000     0.000000       176.500000\n",
       "50%        646.000000   387.000000      1046.000000\n",
       "75%        781.000000   503.000000      1281.000000\n",
       "max       1033.000000   714.000000      1720.000000\n",
       "skewness    -0.432858    -0.342741        -0.396149\n",
       "kurtosis    -1.333381    -1.485497        -1.436612"
      ]
     },
     "execution_count": 11,
     "metadata": {},
     "output_type": "execute_result"
    }
   ],
   "source": [
    "#Ambas variáveis são numéricas, então checamos pela distribuição.\n",
    "features = df1.columns\n",
    "\n",
    "estatisticas(df1[features])"
   ]
  },
  {
   "cell_type": "markdown",
   "id": "c95274fa",
   "metadata": {},
   "source": [
    "Através das estatísticas _skewness_ (assimetria) e _kurtosis_ (curtose) podemos chegar às seguintes conclusões:\n",
    "\n",
    "**Sobre assimetria**:\n",
    "- Ambas variáveis apresentam uma assimetria ***negativa***, ou seja, os dados estão mais concentrados ***acima*** da média.\n",
    "\n",
    "**Sobre curtose**:\n",
    "- Ambas as variáveis apresentam um valor de curtose **menor que 3**, ou seja, a curva da distribuição é mais \"achatada\". Isso significa que os dados estão bem distribuídos."
   ]
  },
  {
   "cell_type": "markdown",
   "id": "641647c0",
   "metadata": {},
   "source": [
    "## 3.2. Hipóteses\n",
    "\n",
    "Agora, criamos algumas hipóteses em relação aos dados para tentar validá-las."
   ]
  },
  {
   "cell_type": "markdown",
   "id": "9ea9e694",
   "metadata": {},
   "source": [
    "**Hipótese 1.** Uma grande parte dos estudantes universitários voltam para suas cidades de origem na sexta-feira, então, na sexta-feira são realizadas MENOS refeições.\n",
    "\n",
    "**Hipótese 2.** Alguns estudantes não chegam exatamente na segunda-feira, então são realizadas MENOS refeições, mas com uma diferença menor do que na sexta-feira.\n",
    "\n",
    "**Hipótese 3.** Nos meses imediatamente anteriores às férias, são realizadas MENOS refeições.\n",
    "\n",
    "**Hipótese 4.** O total de refeições aumentou ao passar dos anos."
   ]
  },
  {
   "cell_type": "code",
   "execution_count": 12,
   "id": "36e916e7",
   "metadata": {},
   "outputs": [],
   "source": [
    "#criando novas variáveis para facilitar a análise\n",
    "\n",
    "#ano\n",
    "df1['year'] = df1.index.year\n",
    "\n",
    "#mês\n",
    "df1['month'] = df1.index.month\n",
    "\n",
    "#dia do mês \n",
    "df1['day'] = df1.index.day\n",
    "\n",
    "#dia da semana. Da documentação do python, sobre a função weekday: \n",
    "\"\"\"\n",
    "Return the day of the week as an integer, where Monday is 0 and Sunday is 6.\n",
    "\"\"\"\n",
    "\n",
    "df1['weekday'] = df1.index.weekday\n",
    "\n",
    "dias_da_semana = {\n",
    "    0: 'Segunda-feira',\n",
    "    1: 'Terça-feira',\n",
    "    2: 'Quarta-feira',\n",
    "    3: 'Quinta-feira',\n",
    "    4: 'Sexta-feira',\n",
    "    5: 'Sábado',\n",
    "    6: 'Domingo'\n",
    "}\n",
    "\n",
    "meses = {\n",
    "    1: 'Janeiro',\n",
    "    2: 'Fevereiro',\n",
    "    3: 'Março',\n",
    "    4: 'Abril',\n",
    "    5: 'Maio',\n",
    "    6: 'Junho',\n",
    "    7: 'Julho',\n",
    "    8: 'Agosto',\n",
    "    9: 'Setembro',\n",
    "    10: 'Outubro',\n",
    "    11: 'Novembro',\n",
    "    12: 'Dezembro'\n",
    "}"
   ]
  },
  {
   "cell_type": "code",
   "execution_count": 13,
   "id": "711f6033",
   "metadata": {},
   "outputs": [
    {
     "data": {
      "text/html": [
       "<div>\n",
       "<style scoped>\n",
       "    .dataframe tbody tr th:only-of-type {\n",
       "        vertical-align: middle;\n",
       "    }\n",
       "\n",
       "    .dataframe tbody tr th {\n",
       "        vertical-align: top;\n",
       "    }\n",
       "\n",
       "    .dataframe thead th {\n",
       "        text-align: right;\n",
       "    }\n",
       "</style>\n",
       "<table border=\"1\" class=\"dataframe\">\n",
       "  <thead>\n",
       "    <tr style=\"text-align: right;\">\n",
       "      <th></th>\n",
       "      <th>lunch</th>\n",
       "      <th>dinner</th>\n",
       "      <th>total_refeicoes</th>\n",
       "      <th>year</th>\n",
       "      <th>month</th>\n",
       "      <th>day</th>\n",
       "      <th>weekday</th>\n",
       "    </tr>\n",
       "    <tr>\n",
       "      <th>date</th>\n",
       "      <th></th>\n",
       "      <th></th>\n",
       "      <th></th>\n",
       "      <th></th>\n",
       "      <th></th>\n",
       "      <th></th>\n",
       "      <th></th>\n",
       "    </tr>\n",
       "  </thead>\n",
       "  <tbody>\n",
       "    <tr>\n",
       "      <th>2016-01-04</th>\n",
       "      <td>364</td>\n",
       "      <td>294</td>\n",
       "      <td>658</td>\n",
       "      <td>2016</td>\n",
       "      <td>1</td>\n",
       "      <td>4</td>\n",
       "      <td>0</td>\n",
       "    </tr>\n",
       "    <tr>\n",
       "      <th>2016-01-05</th>\n",
       "      <td>489</td>\n",
       "      <td>363</td>\n",
       "      <td>852</td>\n",
       "      <td>2016</td>\n",
       "      <td>1</td>\n",
       "      <td>5</td>\n",
       "      <td>1</td>\n",
       "    </tr>\n",
       "    <tr>\n",
       "      <th>2016-01-06</th>\n",
       "      <td>522</td>\n",
       "      <td>401</td>\n",
       "      <td>923</td>\n",
       "      <td>2016</td>\n",
       "      <td>1</td>\n",
       "      <td>6</td>\n",
       "      <td>2</td>\n",
       "    </tr>\n",
       "    <tr>\n",
       "      <th>2016-01-07</th>\n",
       "      <td>514</td>\n",
       "      <td>349</td>\n",
       "      <td>863</td>\n",
       "      <td>2016</td>\n",
       "      <td>1</td>\n",
       "      <td>7</td>\n",
       "      <td>3</td>\n",
       "    </tr>\n",
       "    <tr>\n",
       "      <th>2016-01-08</th>\n",
       "      <td>409</td>\n",
       "      <td>218</td>\n",
       "      <td>627</td>\n",
       "      <td>2016</td>\n",
       "      <td>1</td>\n",
       "      <td>8</td>\n",
       "      <td>4</td>\n",
       "    </tr>\n",
       "  </tbody>\n",
       "</table>\n",
       "</div>"
      ],
      "text/plain": [
       "            lunch  dinner  total_refeicoes  year  month  day  weekday\n",
       "date                                                                 \n",
       "2016-01-04    364     294              658  2016      1    4        0\n",
       "2016-01-05    489     363              852  2016      1    5        1\n",
       "2016-01-06    522     401              923  2016      1    6        2\n",
       "2016-01-07    514     349              863  2016      1    7        3\n",
       "2016-01-08    409     218              627  2016      1    8        4"
      ]
     },
     "execution_count": 13,
     "metadata": {},
     "output_type": "execute_result"
    }
   ],
   "source": [
    "df1.head()"
   ]
  },
  {
   "cell_type": "markdown",
   "id": "babf3526",
   "metadata": {},
   "source": [
    "**Hipótese 1.** Na sexta-feira são realizadas MENOS refeições.\n",
    "\n",
    "**Hipótese 2.** Na segunda-feira são realizadas MENOS refeições."
   ]
  },
  {
   "cell_type": "code",
   "execution_count": 14,
   "id": "b450bcdd",
   "metadata": {
    "scrolled": true
   },
   "outputs": [
    {
     "data": {
      "text/html": [
       "<div>\n",
       "<style scoped>\n",
       "    .dataframe tbody tr th:only-of-type {\n",
       "        vertical-align: middle;\n",
       "    }\n",
       "\n",
       "    .dataframe tbody tr th {\n",
       "        vertical-align: top;\n",
       "    }\n",
       "\n",
       "    .dataframe thead th {\n",
       "        text-align: right;\n",
       "    }\n",
       "</style>\n",
       "<table border=\"1\" class=\"dataframe\">\n",
       "  <thead>\n",
       "    <tr style=\"text-align: right;\">\n",
       "      <th></th>\n",
       "      <th>lunch</th>\n",
       "      <th>dinner</th>\n",
       "      <th>total_refeicoes</th>\n",
       "    </tr>\n",
       "    <tr>\n",
       "      <th>weekday</th>\n",
       "      <th></th>\n",
       "      <th></th>\n",
       "      <th></th>\n",
       "    </tr>\n",
       "  </thead>\n",
       "  <tbody>\n",
       "    <tr>\n",
       "      <th>Segunda-feira</th>\n",
       "      <td>495.642202</td>\n",
       "      <td>331.486239</td>\n",
       "      <td>827.128440</td>\n",
       "    </tr>\n",
       "    <tr>\n",
       "      <th>Terça-feira</th>\n",
       "      <td>583.289593</td>\n",
       "      <td>348.393665</td>\n",
       "      <td>931.683258</td>\n",
       "    </tr>\n",
       "    <tr>\n",
       "      <th>Quarta-feira</th>\n",
       "      <td>566.515982</td>\n",
       "      <td>336.301370</td>\n",
       "      <td>902.817352</td>\n",
       "    </tr>\n",
       "    <tr>\n",
       "      <th>Quinta-feira</th>\n",
       "      <td>532.246575</td>\n",
       "      <td>312.305936</td>\n",
       "      <td>844.552511</td>\n",
       "    </tr>\n",
       "    <tr>\n",
       "      <th>Sexta-feira</th>\n",
       "      <td>419.903670</td>\n",
       "      <td>213.399083</td>\n",
       "      <td>633.302752</td>\n",
       "    </tr>\n",
       "  </tbody>\n",
       "</table>\n",
       "</div>"
      ],
      "text/plain": [
       "                    lunch      dinner  total_refeicoes\n",
       "weekday                                               \n",
       "Segunda-feira  495.642202  331.486239       827.128440\n",
       "Terça-feira    583.289593  348.393665       931.683258\n",
       "Quarta-feira   566.515982  336.301370       902.817352\n",
       "Quinta-feira   532.246575  312.305936       844.552511\n",
       "Sexta-feira    419.903670  213.399083       633.302752"
      ]
     },
     "execution_count": 14,
     "metadata": {},
     "output_type": "execute_result"
    }
   ],
   "source": [
    "#média de refeições por dia\n",
    "mean_by_weekday = df1.groupby('weekday').mean()[['lunch', 'dinner', 'total_refeicoes']]\n",
    "mean_by_weekday.rename(dias_da_semana, axis=0, inplace=True)\n",
    "\n",
    "mean_by_weekday"
   ]
  },
  {
   "cell_type": "code",
   "execution_count": 15,
   "id": "7dd12e7e",
   "metadata": {},
   "outputs": [
    {
     "data": {
      "image/png": "[encoded data removed]",
      "text/plain": [
       "<Figure size 1000x300 with 1 Axes>"
      ]
     },
     "metadata": {},
     "output_type": "display_data"
    }
   ],
   "source": [
    "#visualizando a informação \n",
    "plt.figure(figsize = (10, 3))\n",
    "\n",
    "sns.lineplot(mean_by_weekday['total_refeicoes'], color='indigo').set(xlabel=None,\n",
    "                                                                     ylabel=None)\n",
    "plt.title('Média de refeições por dia da semana')\n",
    "\n",
    "plt.show()"
   ]
  },
  {
   "cell_type": "markdown",
   "id": "d65b39b4",
   "metadata": {},
   "source": [
    "Como podemos ver, em média, na sexta-feira realmente são feitas menos refeições, então a hipótese 1 é **verdadeira.**\n",
    "\n",
    "Também podemos ver que, em média, na segunda-feira são realizadas menos refeições, mas essa diferença é bem pequena. Assim, a hipótese 2 também é **verdadeira.**\n",
    "\n",
    "Além disso, chegamos a outras observações interessantes: \n",
    "\n",
    "- Na segunda, se comparada aos outros dias da semana (fora a sexta), a diferença da quantidade de refeições no almoço é bem maior que a diferença de refeições no jantar. Isso pode se dar ao fato de que há muitos estudantes que chegam de suas cidades de origem na segunda, mas não a tempo do almoço.\n",
    "\n",
    "- Na sexta, são feitas muito menos refeições no jantar do que no almoço, quase metade. Isso pode se dar ao fato de que alguns estudantes têm aula durante o dia, e vão embora apenas à tarde ou à noite."
   ]
  },
  {
   "cell_type": "markdown",
   "id": "075a13c8",
   "metadata": {},
   "source": [
    "**Hipótese 3.** Nos meses imediatamente anteriores às férias, são realizadas MENOS refeições."
   ]
  },
  {
   "cell_type": "code",
   "execution_count": 16,
   "id": "ced7cb23",
   "metadata": {
    "scrolled": false
   },
   "outputs": [
    {
     "data": {
      "text/html": [
       "<div>\n",
       "<style scoped>\n",
       "    .dataframe tbody tr th:only-of-type {\n",
       "        vertical-align: middle;\n",
       "    }\n",
       "\n",
       "    .dataframe tbody tr th {\n",
       "        vertical-align: top;\n",
       "    }\n",
       "\n",
       "    .dataframe thead th {\n",
       "        text-align: right;\n",
       "    }\n",
       "</style>\n",
       "<table border=\"1\" class=\"dataframe\">\n",
       "  <thead>\n",
       "    <tr style=\"text-align: right;\">\n",
       "      <th></th>\n",
       "      <th>lunch</th>\n",
       "      <th>dinner</th>\n",
       "      <th>total_refeicoes</th>\n",
       "      <th>porcentagem</th>\n",
       "    </tr>\n",
       "    <tr>\n",
       "      <th>month</th>\n",
       "      <th></th>\n",
       "      <th></th>\n",
       "      <th></th>\n",
       "      <th></th>\n",
       "    </tr>\n",
       "  </thead>\n",
       "  <tbody>\n",
       "    <tr>\n",
       "      <th>Janeiro</th>\n",
       "      <td>197.757009</td>\n",
       "      <td>71.158879</td>\n",
       "      <td>268.915888</td>\n",
       "      <td>2.66%</td>\n",
       "    </tr>\n",
       "    <tr>\n",
       "      <th>Fevereiro</th>\n",
       "      <td>306.378947</td>\n",
       "      <td>127.789474</td>\n",
       "      <td>434.168421</td>\n",
       "      <td>4.30%</td>\n",
       "    </tr>\n",
       "    <tr>\n",
       "      <th>Março</th>\n",
       "      <td>528.567568</td>\n",
       "      <td>321.576577</td>\n",
       "      <td>850.144144</td>\n",
       "      <td>8.42%</td>\n",
       "    </tr>\n",
       "    <tr>\n",
       "      <th>Abril</th>\n",
       "      <td>684.833333</td>\n",
       "      <td>424.488095</td>\n",
       "      <td>1109.321429</td>\n",
       "      <td>10.98%</td>\n",
       "    </tr>\n",
       "    <tr>\n",
       "      <th>Maio</th>\n",
       "      <td>701.175824</td>\n",
       "      <td>441.714286</td>\n",
       "      <td>1142.890110</td>\n",
       "      <td>11.31%</td>\n",
       "    </tr>\n",
       "    <tr>\n",
       "      <th>Junho</th>\n",
       "      <td>665.823529</td>\n",
       "      <td>411.176471</td>\n",
       "      <td>1077.000000</td>\n",
       "      <td>10.66%</td>\n",
       "    </tr>\n",
       "    <tr>\n",
       "      <th>Julho</th>\n",
       "      <td>254.448276</td>\n",
       "      <td>106.367816</td>\n",
       "      <td>360.816092</td>\n",
       "      <td>3.57%</td>\n",
       "    </tr>\n",
       "    <tr>\n",
       "      <th>Agosto</th>\n",
       "      <td>622.021978</td>\n",
       "      <td>367.527473</td>\n",
       "      <td>989.549451</td>\n",
       "      <td>9.80%</td>\n",
       "    </tr>\n",
       "    <tr>\n",
       "      <th>Setembro</th>\n",
       "      <td>746.500000</td>\n",
       "      <td>489.642857</td>\n",
       "      <td>1236.142857</td>\n",
       "      <td>12.24%</td>\n",
       "    </tr>\n",
       "    <tr>\n",
       "      <th>Outubro</th>\n",
       "      <td>676.068182</td>\n",
       "      <td>435.068182</td>\n",
       "      <td>1111.136364</td>\n",
       "      <td>11.00%</td>\n",
       "    </tr>\n",
       "    <tr>\n",
       "      <th>Novembro</th>\n",
       "      <td>653.220930</td>\n",
       "      <td>414.290698</td>\n",
       "      <td>1067.511628</td>\n",
       "      <td>10.57%</td>\n",
       "    </tr>\n",
       "    <tr>\n",
       "      <th>Dezembro</th>\n",
       "      <td>292.348837</td>\n",
       "      <td>160.802326</td>\n",
       "      <td>453.151163</td>\n",
       "      <td>4.49%</td>\n",
       "    </tr>\n",
       "  </tbody>\n",
       "</table>\n",
       "</div>"
      ],
      "text/plain": [
       "                lunch      dinner  total_refeicoes porcentagem\n",
       "month                                                         \n",
       "Janeiro    197.757009   71.158879       268.915888       2.66%\n",
       "Fevereiro  306.378947  127.789474       434.168421       4.30%\n",
       "Março      528.567568  321.576577       850.144144       8.42%\n",
       "Abril      684.833333  424.488095      1109.321429      10.98%\n",
       "Maio       701.175824  441.714286      1142.890110      11.31%\n",
       "Junho      665.823529  411.176471      1077.000000      10.66%\n",
       "Julho      254.448276  106.367816       360.816092       3.57%\n",
       "Agosto     622.021978  367.527473       989.549451       9.80%\n",
       "Setembro   746.500000  489.642857      1236.142857      12.24%\n",
       "Outubro    676.068182  435.068182      1111.136364      11.00%\n",
       "Novembro   653.220930  414.290698      1067.511628      10.57%\n",
       "Dezembro   292.348837  160.802326       453.151163       4.49%"
      ]
     },
     "execution_count": 16,
     "metadata": {},
     "output_type": "execute_result"
    }
   ],
   "source": [
    "#média de refeições por mês\n",
    "mean_by_month = df1.groupby('month').mean()[['lunch', 'dinner', 'total_refeicoes']]\n",
    "mean_by_month.rename(meses, axis=0, inplace=True)\n",
    "\n",
    "#porcentagem que cada mês representa em relação ao total da média de refeições no ano\n",
    "mean_by_month.loc[:, 'porcentagem'] = mean_by_month.loc[:, 'total_refeicoes'] / mean_by_month.sum()['total_refeicoes']\n",
    "mean_by_month['porcentagem'] = mean_by_month['porcentagem'].map(lambda x: '{:,.2%}'.format(x))\n",
    "\n",
    "mean_by_month"
   ]
  },
  {
   "cell_type": "code",
   "execution_count": 17,
   "id": "87c94ec3",
   "metadata": {},
   "outputs": [
    {
     "data": {
      "image/png": "[encoded data removed]",
      "text/plain": [
       "<Figure size 1000x300 with 1 Axes>"
      ]
     },
     "metadata": {},
     "output_type": "display_data"
    }
   ],
   "source": [
    "#visualizando a informação \n",
    "plt.figure(figsize = (10, 3))\n",
    "\n",
    "sns.lineplot(mean_by_month['total_refeicoes'], color='indigo').set(xlabel=None,\n",
    "                                                                   ylabel=None)\n",
    "plt.title('Média de refeições por mês')\n",
    "\n",
    "plt.show()"
   ]
  },
  {
   "cell_type": "markdown",
   "id": "62c3ac22",
   "metadata": {},
   "source": [
    "As férias geralmente iniciam nos meses de julho e dezembro, então o esperado na hipótese era que houvesse menos refeições nos meses de junho e outubro, porém observamos que isso não acontece. Sendo assim, a hipótese 3 é FALSA.\n",
    "\n",
    "Porém, também chegamos a informações interessantes:\n",
    "- Nas férias (janeiro, julho e dezembro), realmente verificamos que há menos refeições, então constatamos que, para essa informação, a base não tem inconsistência.\n",
    "- No primeiro mês de aula do semestre (geralmente março e agosto), são realizadas menos refeições."
   ]
  },
  {
   "cell_type": "markdown",
   "id": "37195c22",
   "metadata": {},
   "source": [
    "**Hipótese 4.** O total de refeições aumentou ao passar dos anos."
   ]
  },
  {
   "cell_type": "code",
   "execution_count": 18,
   "id": "0ab12e24",
   "metadata": {},
   "outputs": [
    {
     "data": {
      "text/html": [
       "<div>\n",
       "<style scoped>\n",
       "    .dataframe tbody tr th:only-of-type {\n",
       "        vertical-align: middle;\n",
       "    }\n",
       "\n",
       "    .dataframe tbody tr th {\n",
       "        vertical-align: top;\n",
       "    }\n",
       "\n",
       "    .dataframe thead th {\n",
       "        text-align: right;\n",
       "    }\n",
       "</style>\n",
       "<table border=\"1\" class=\"dataframe\">\n",
       "  <thead>\n",
       "    <tr style=\"text-align: right;\">\n",
       "      <th></th>\n",
       "      <th>lunch</th>\n",
       "      <th>dinner</th>\n",
       "      <th>total_refeicoes</th>\n",
       "    </tr>\n",
       "    <tr>\n",
       "      <th>year</th>\n",
       "      <th></th>\n",
       "      <th></th>\n",
       "      <th></th>\n",
       "    </tr>\n",
       "  </thead>\n",
       "  <tbody>\n",
       "    <tr>\n",
       "      <th>2016</th>\n",
       "      <td>127250</td>\n",
       "      <td>79182</td>\n",
       "      <td>206432</td>\n",
       "    </tr>\n",
       "    <tr>\n",
       "      <th>2017</th>\n",
       "      <td>137066</td>\n",
       "      <td>82175</td>\n",
       "      <td>219241</td>\n",
       "    </tr>\n",
       "    <tr>\n",
       "      <th>2018</th>\n",
       "      <td>134594</td>\n",
       "      <td>77932</td>\n",
       "      <td>212526</td>\n",
       "    </tr>\n",
       "    <tr>\n",
       "      <th>2019</th>\n",
       "      <td>150765</td>\n",
       "      <td>89338</td>\n",
       "      <td>240103</td>\n",
       "    </tr>\n",
       "    <tr>\n",
       "      <th>2020</th>\n",
       "      <td>19450</td>\n",
       "      <td>9198</td>\n",
       "      <td>28648</td>\n",
       "    </tr>\n",
       "  </tbody>\n",
       "</table>\n",
       "</div>"
      ],
      "text/plain": [
       "       lunch  dinner  total_refeicoes\n",
       "year                                 \n",
       "2016  127250   79182           206432\n",
       "2017  137066   82175           219241\n",
       "2018  134594   77932           212526\n",
       "2019  150765   89338           240103\n",
       "2020   19450    9198            28648"
      ]
     },
     "execution_count": 18,
     "metadata": {},
     "output_type": "execute_result"
    }
   ],
   "source": [
    "#total de refeições por ano\n",
    "total_by_year = df1.groupby('year').sum()[['lunch', 'dinner', 'total_refeicoes']]\n",
    "\n",
    "total_by_year"
   ]
  },
  {
   "cell_type": "code",
   "execution_count": 19,
   "id": "23df18cc",
   "metadata": {},
   "outputs": [
    {
     "data": {
      "image/png": "[encoded data removed]",
      "text/plain": [
       "<Figure size 1000x400 with 1 Axes>"
      ]
     },
     "metadata": {},
     "output_type": "display_data"
    }
   ],
   "source": [
    "#visualizando a informação \n",
    "plt.figure(figsize = (10, 4))\n",
    "\n",
    "sns.lineplot(total_by_year['total_refeicoes'], color='indigo').set(xlabel=None,\n",
    "                                                                  ylabel=None)\n",
    "plt.title('Média de refeições por ano')\n",
    "\n",
    "plt.show()"
   ]
  },
  {
   "cell_type": "markdown",
   "id": "8b744316",
   "metadata": {},
   "source": [
    "Podemos ver que há uma queda brusca na quantidade de refeições no ano de 2020. Foi a época em que houve a paralisação das aulas presenciais devido à Covid, então o esperado é que apenas haja dados até o mês de março. Podemos verificar a tendência sem considerar o ano de 2020."
   ]
  },
  {
   "cell_type": "code",
   "execution_count": 20,
   "id": "f78eb512",
   "metadata": {},
   "outputs": [
    {
     "data": {
      "image/png": "[encoded data removed]",
      "text/plain": [
       "<Figure size 1000x400 with 1 Axes>"
      ]
     },
     "metadata": {},
     "output_type": "display_data"
    }
   ],
   "source": [
    "plt.figure(figsize = (10, 4))\n",
    "\n",
    "sns.lineplot(total_by_year[total_by_year.index < 2020]['total_refeicoes'],\n",
    "             color='indigo').set(xlabel=None,\n",
    "                                 ylabel=None, \n",
    "                                 ylim = [200000, 250000])\n",
    "\n",
    "plt.title('Total de refeições por ano')\n",
    "\n",
    "plt.show()"
   ]
  },
  {
   "cell_type": "markdown",
   "id": "9a09d901",
   "metadata": {},
   "source": [
    "O que podemos observar é que não há uma grande diferença de um ano para outro, exceto em um aumento que houve a partir do ano de 2018."
   ]
  },
  {
   "cell_type": "code",
   "execution_count": 21,
   "id": "0eafb7e2",
   "metadata": {},
   "outputs": [
    {
     "data": {
      "text/plain": [
       "Março        22\n",
       "Janeiro      20\n",
       "Fevereiro    20\n",
       "Name: month, dtype: int64"
      ]
     },
     "execution_count": 21,
     "metadata": {},
     "output_type": "execute_result"
    }
   ],
   "source": [
    "# verificando os meses em que há registros\n",
    "df1[ df1['year'] == 2020 ]['month'].value_counts().rename(meses)"
   ]
  },
  {
   "cell_type": "markdown",
   "id": "ce1df341",
   "metadata": {},
   "source": [
    "Como suposto, há dados apenas até março."
   ]
  },
  {
   "cell_type": "markdown",
   "id": "3c3070d1",
   "metadata": {},
   "source": [
    "# Etapa 4 - Model/Modelagem"
   ]
  },
  {
   "cell_type": "markdown",
   "id": "d041bfcb",
   "metadata": {},
   "source": [
    "Para prosseguir com a análise, decidi adotar uma única coluna para ser a variável alvo, que corresponde ao total de refeições no dia."
   ]
  },
  {
   "cell_type": "code",
   "execution_count": 22,
   "id": "4cbc4fdc",
   "metadata": {},
   "outputs": [],
   "source": [
    "df2 = df1.copy()\n",
    "df2 = df2.drop(['lunch', 'dinner'], axis = 1)"
   ]
  },
  {
   "cell_type": "markdown",
   "id": "2e545889",
   "metadata": {},
   "source": [
    "## 4.1. Lag Features"
   ]
  },
  {
   "cell_type": "markdown",
   "id": "e7bff523",
   "metadata": {},
   "source": [
    "Uma estratégia para modelagem de séries temporais é a criação de _time lag features_, que correspondem a um atraso na variável alvo em relação ao tempo. Isso nos permite estudar a autocorrelação entre os dados, ou seja, o quanto o dado de um determinado período de tempo depende de um anterior. Por exemplo, \"o quanto as vendas de hoje dependem da quantidade de vendas de ontem\".\n",
    "\n",
    "Uma questão a ser avaliada é quantas lag features criar. Para isso, usaremos a função plot_acf para verificar o quanto os dados estão relacionados com as n possíveis lag criadas."
   ]
  },
  {
   "cell_type": "code",
   "execution_count": 23,
   "id": "be144af3",
   "metadata": {},
   "outputs": [
    {
     "data": {
      "image/png": "[encoded data removed]",
      "text/plain": [
       "<Figure size 640x480 with 1 Axes>"
      ]
     },
     "metadata": {},
     "output_type": "display_data"
    }
   ],
   "source": [
    "plot_acf(df2['total_refeicoes'], lags = 20, zero = False)\n",
    "\n",
    "plt.show()"
   ]
  },
  {
   "cell_type": "markdown",
   "id": "10488cf6",
   "metadata": {},
   "source": [
    "O que podemos observar é que até a partir da lag 5, temos uma queda na correlação. Sendo assim, criaremos 5 lags."
   ]
  },
  {
   "cell_type": "code",
   "execution_count": 48,
   "id": "f7ea1ae4",
   "metadata": {
    "scrolled": true
   },
   "outputs": [
    {
     "data": {
      "text/html": [
       "<div>\n",
       "<style scoped>\n",
       "    .dataframe tbody tr th:only-of-type {\n",
       "        vertical-align: middle;\n",
       "    }\n",
       "\n",
       "    .dataframe tbody tr th {\n",
       "        vertical-align: top;\n",
       "    }\n",
       "\n",
       "    .dataframe thead th {\n",
       "        text-align: right;\n",
       "    }\n",
       "</style>\n",
       "<table border=\"1\" class=\"dataframe\">\n",
       "  <thead>\n",
       "    <tr style=\"text-align: right;\">\n",
       "      <th></th>\n",
       "      <th>total_refeicoes</th>\n",
       "      <th>year</th>\n",
       "      <th>month</th>\n",
       "      <th>day</th>\n",
       "      <th>weekday</th>\n",
       "      <th>lag_1</th>\n",
       "      <th>lag_2</th>\n",
       "      <th>lag_3</th>\n",
       "      <th>lag_4</th>\n",
       "      <th>lag_5</th>\n",
       "    </tr>\n",
       "    <tr>\n",
       "      <th>date</th>\n",
       "      <th></th>\n",
       "      <th></th>\n",
       "      <th></th>\n",
       "      <th></th>\n",
       "      <th></th>\n",
       "      <th></th>\n",
       "      <th></th>\n",
       "      <th></th>\n",
       "      <th></th>\n",
       "      <th></th>\n",
       "    </tr>\n",
       "  </thead>\n",
       "  <tbody>\n",
       "    <tr>\n",
       "      <th>2016-01-04</th>\n",
       "      <td>658</td>\n",
       "      <td>2016</td>\n",
       "      <td>1</td>\n",
       "      <td>4</td>\n",
       "      <td>0</td>\n",
       "      <td>NaN</td>\n",
       "      <td>NaN</td>\n",
       "      <td>NaN</td>\n",
       "      <td>NaN</td>\n",
       "      <td>NaN</td>\n",
       "    </tr>\n",
       "    <tr>\n",
       "      <th>2016-01-05</th>\n",
       "      <td>852</td>\n",
       "      <td>2016</td>\n",
       "      <td>1</td>\n",
       "      <td>5</td>\n",
       "      <td>1</td>\n",
       "      <td>658.0</td>\n",
       "      <td>NaN</td>\n",
       "      <td>NaN</td>\n",
       "      <td>NaN</td>\n",
       "      <td>NaN</td>\n",
       "    </tr>\n",
       "    <tr>\n",
       "      <th>2016-01-06</th>\n",
       "      <td>923</td>\n",
       "      <td>2016</td>\n",
       "      <td>1</td>\n",
       "      <td>6</td>\n",
       "      <td>2</td>\n",
       "      <td>852.0</td>\n",
       "      <td>658.0</td>\n",
       "      <td>NaN</td>\n",
       "      <td>NaN</td>\n",
       "      <td>NaN</td>\n",
       "    </tr>\n",
       "    <tr>\n",
       "      <th>2016-01-07</th>\n",
       "      <td>863</td>\n",
       "      <td>2016</td>\n",
       "      <td>1</td>\n",
       "      <td>7</td>\n",
       "      <td>3</td>\n",
       "      <td>923.0</td>\n",
       "      <td>852.0</td>\n",
       "      <td>658.0</td>\n",
       "      <td>NaN</td>\n",
       "      <td>NaN</td>\n",
       "    </tr>\n",
       "    <tr>\n",
       "      <th>2016-01-08</th>\n",
       "      <td>627</td>\n",
       "      <td>2016</td>\n",
       "      <td>1</td>\n",
       "      <td>8</td>\n",
       "      <td>4</td>\n",
       "      <td>863.0</td>\n",
       "      <td>923.0</td>\n",
       "      <td>852.0</td>\n",
       "      <td>658.0</td>\n",
       "      <td>NaN</td>\n",
       "    </tr>\n",
       "  </tbody>\n",
       "</table>\n",
       "</div>"
      ],
      "text/plain": [
       "            total_refeicoes  year  month  day  weekday  lag_1  lag_2  lag_3  \\\n",
       "date                                                                          \n",
       "2016-01-04              658  2016      1    4        0    NaN    NaN    NaN   \n",
       "2016-01-05              852  2016      1    5        1  658.0    NaN    NaN   \n",
       "2016-01-06              923  2016      1    6        2  852.0  658.0    NaN   \n",
       "2016-01-07              863  2016      1    7        3  923.0  852.0  658.0   \n",
       "2016-01-08              627  2016      1    8        4  863.0  923.0  852.0   \n",
       "\n",
       "            lag_4  lag_5  \n",
       "date                      \n",
       "2016-01-04    NaN    NaN  \n",
       "2016-01-05    NaN    NaN  \n",
       "2016-01-06    NaN    NaN  \n",
       "2016-01-07    NaN    NaN  \n",
       "2016-01-08  658.0    NaN  "
      ]
     },
     "execution_count": 48,
     "metadata": {},
     "output_type": "execute_result"
    }
   ],
   "source": [
    "# Criação das lags\n",
    "df2['lag_1'] = df2['total_refeicoes'].shift(1) \n",
    "df2['lag_2'] = df2['total_refeicoes'].shift(2)\n",
    "df2['lag_3'] = df2['total_refeicoes'].shift(3)\n",
    "df2['lag_4'] = df2['total_refeicoes'].shift(4)\n",
    "df2['lag_5'] = df2['total_refeicoes'].shift(5)\n",
    "\n",
    "# verificando o resultado\n",
    "df2.head()"
   ]
  },
  {
   "cell_type": "markdown",
   "id": "286c79e4",
   "metadata": {},
   "source": [
    "## 4.2. Window features"
   ]
  },
  {
   "cell_type": "markdown",
   "id": "01b11c33",
   "metadata": {},
   "source": [
    "Outra estratégia é a criação de Window Features, que também nos ajudam a verificar uma dependência temporal entre os dados. Porém, diferente das lag features, verificamos em relação a um intervalo de tempo, e não pontualmente. Existem algumas possibilidades para essas features, mas aqui irei utilizar a média móvel."
   ]
  },
  {
   "cell_type": "code",
   "execution_count": 49,
   "id": "076ca757",
   "metadata": {},
   "outputs": [],
   "source": [
    "df2['moving_avg'] = df2['total_refeicoes'].rolling(5).mean()"
   ]
  },
  {
   "cell_type": "markdown",
   "id": "6e45af94",
   "metadata": {},
   "source": [
    "## 4.3. Modelos de Machine Learning"
   ]
  },
  {
   "cell_type": "markdown",
   "id": "51f5e51e",
   "metadata": {},
   "source": [
    "Na análise de séries temporais, a separação dos dados entre treino e teste não pode ser feita como nos problemas comuns de previsão. Não é aconselhado que simplesmente sejam escolhidos dados aleatórios entre a base inteira de dados, pois estaríamos misturando dados passados com dados futuros e isso prejudica a análise. Em vez disso, devemos separar com base no tempo.\n",
    "\n",
    "Para este problema, decidi separar os dados considerando o limite do ano de 2019."
   ]
  },
  {
   "cell_type": "code",
   "execution_count": 50,
   "id": "84e2c63b",
   "metadata": {},
   "outputs": [],
   "source": [
    "train = df2.loc[ df2.index.year < 2019 ]\n",
    "\n",
    "val = df2.loc[ df2.index.year >= 2019 ]\n",
    "\n",
    "X_train = train.drop(['total_refeicoes'], axis = 1)\n",
    "y_train = train['total_refeicoes']\n",
    "\n",
    "X_test = val.drop(['total_refeicoes'], axis = 1)\n",
    "y_test = val['total_refeicoes']"
   ]
  },
  {
   "cell_type": "markdown",
   "id": "58a32fe8",
   "metadata": {},
   "source": [
    "Testando as perfomances dos modelos selecionados"
   ]
  },
  {
   "cell_type": "code",
   "execution_count": null,
   "id": "ae93957e",
   "metadata": {},
   "outputs": [],
   "source": [
    "X_train = X_train.fillna(0)"
   ]
  },
  {
   "cell_type": "code",
   "execution_count": null,
   "id": "0259ae8f",
   "metadata": {
    "scrolled": true
   },
   "outputs": [],
   "source": [
    "lr = LinearRegression()\n",
    "xgb = XGBRegressor()\n",
    "\n",
    "lr.fit(X_train, y_train)\n",
    "xgb.fit(X_train, y_train)\n",
    "\n",
    "y_pred_lr = pd.Series( lr.predict(X_test), index = y_test.index )\n",
    "y_pred_xgb= pd.Series( xgb.predict(X_test), index = y_test.index )"
   ]
  },
  {
   "cell_type": "code",
   "execution_count": null,
   "id": "8fbe173b",
   "metadata": {
    "scrolled": true
   },
   "outputs": [],
   "source": [
    "metricas_lr = metricas_regressao(y_pred_lr, y_test, lr)\n",
    "metricas_xgb = metricas_regressao(y_pred_xgb, y_test, xgb)\n",
    "\n",
    "m = metricas_lr.append(metricas_xgb)\n",
    "m"
   ]
  },
  {
   "cell_type": "markdown",
   "id": "67566a43",
   "metadata": {},
   "source": [
    "Comparando os resultados dos modelos com os dados reais"
   ]
  },
  {
   "cell_type": "code",
   "execution_count": null,
   "id": "eb910c8e",
   "metadata": {},
   "outputs": [],
   "source": [
    "fig, ax = plt.subplots(2, 1, figsize = (15, 6))\n",
    "\n",
    "sns.lineplot(y_test, \n",
    "             color='indigo', \n",
    "             label = 'Dados reais',\n",
    "             ax = ax[0]).set(xlabel=None, ylabel=None)\n",
    "\n",
    "sns.lineplot(y_pred_lr, \n",
    "             color='orangered', \n",
    "             label = 'Dados previstos',\n",
    "             ax = ax[0]).set(xlabel=None, ylabel=None)\n",
    "\n",
    "ax[0].set_title('Dados reais vs Dados previstos - Regressão Linear')\n",
    "\n",
    "sns.lineplot(y_test, \n",
    "             color='indigo',\n",
    "             label = 'Dados reais',\n",
    "             ax = ax[1]).set(xlabel=None, ylabel=None)\n",
    "\n",
    "sns.lineplot(y_pred_xgb, \n",
    "             color='orangered', \n",
    "             label = 'Dados previstos', \n",
    "             ax = ax[1]).set(xlabel=None, ylabel=None)\n",
    "\n",
    "ax[1].set_title('Dados reais vs Dados previstos - XGBoost')\n",
    "\n",
    "plt.legend()\n",
    "\n",
    "fig.tight_layout()"
   ]
  },
  {
   "cell_type": "markdown",
   "id": "11d77d64",
   "metadata": {},
   "source": [
    "Verificamos tanto através das métricas quanto visualmente que, para este problema, a Regressão Linear apresentou um resultado melhor que o XGBoost, então seguiremos com ela."
   ]
  }
 ],
 "metadata": {
  "kernelspec": {
   "display_name": "Python 3 (ipykernel)",
   "language": "python",
   "name": "python3"
  },
  "language_info": {
   "codemirror_mode": {
    "name": "ipython",
    "version": 3
   },
   "file_extension": ".py",
   "mimetype": "text/x-python",
   "name": "python",
   "nbconvert_exporter": "python",
   "pygments_lexer": "ipython3",
   "version": "3.8.7"
  }
 },
 "nbformat": 4,
 "nbformat_minor": 5
}
